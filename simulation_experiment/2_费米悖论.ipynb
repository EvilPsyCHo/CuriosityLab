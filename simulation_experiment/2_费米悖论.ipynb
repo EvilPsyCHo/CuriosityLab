{
 "cells": [
  {
   "cell_type": "markdown",
   "metadata": {},
   "source": [
    "在宇宙维度，采用闵氏时空观，解答费米悖论\n",
    "\n",
    "- 空间105,700光年\n",
    "- 恒星数量250 billion ± 150 billion\n",
    "- 恒星中诞生生命概率\n",
    "- 文明等级与通讯方式/通讯能级关系\n",
    "- 文明通讯方式向下兼容定律\n",
    "- 文明发展速度\n",
    "- 文明等级分布"
   ]
  }
 ],
 "metadata": {
  "kernelspec": {
   "display_name": "Python 3",
   "language": "python",
   "name": "python3"
  },
  "language_info": {
   "codemirror_mode": {
    "name": "ipython",
    "version": 3
   },
   "file_extension": ".py",
   "mimetype": "text/x-python",
   "name": "python",
   "nbconvert_exporter": "python",
   "pygments_lexer": "ipython3",
   "version": "3.7.4"
  }
 },
 "nbformat": 4,
 "nbformat_minor": 2
}
